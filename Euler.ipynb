{
 "cells": [
  {
   "cell_type": "code",
   "execution_count": 77,
   "metadata": {
    "collapsed": false
   },
   "outputs": [],
   "source": [
    "from pylab import*\n",
    "%matplotlib inline"
   ]
  },
  {
   "cell_type": "code",
   "execution_count": 68,
   "metadata": {
    "collapsed": false
   },
   "outputs": [
    {
     "name": "stdout",
     "output_type": "stream",
     "text": [
      "[ 0.   0.1  0.2  0.3  0.4  0.5  0.6  0.7  0.8  0.9  1.   1.1  1.2  1.3  1.4\n",
      "  1.5  1.6  1.7  1.8  1.9  2. ]\n"
     ]
    }
   ],
   "source": [
    "x = arange(0,2+0.1,0.1) #arreglos\n",
    "print x"
   ]
  },
  {
   "cell_type": "code",
   "execution_count": 95,
   "metadata": {
    "collapsed": true
   },
   "outputs": [],
   "source": [
    "def euler(funcion,p_ini,t_final,h=0.01):\n",
    "    tiempos = arange(p_ini[0],t_final+h,h) #tiempos=(tiempo inicial, tiempo final, pasos)\n",
    "    y = [0]*(len(tiempos)) #hacemos un arreglo de 0 con la misma longitud que el tiempo\n",
    "    y[0] = p_ini[1]   #definimos nuestro valor inicial\n",
    "    for i in range(len(tiempos)-1):#nos indica el punto siguiente en el intervalo\n",
    "        y[i+1] = y[i] + funcion(y[i],tiempos[i])*h \n",
    "    solucion = [tiempos,y]    \n",
    "    return solucion"
   ]
  },
  {
   "cell_type": "markdown",
   "metadata": {},
   "source": [
    "Probamos con una ecuacion diferencial. Queremos resolver:\n",
    "    \n",
    "    $$f'(x)=f(x)$$"
   ]
  },
  {
   "cell_type": "code",
   "execution_count": 90,
   "metadata": {
    "collapsed": true
   },
   "outputs": [],
   "source": [
    "def ec_diff(y,t):\n",
    "    return y "
   ]
  },
  {
   "cell_type": "code",
   "execution_count": 91,
   "metadata": {
    "collapsed": false
   },
   "outputs": [
    {
     "ename": "SyntaxError",
     "evalue": "invalid syntax (<ipython-input-91-1bc36e8958bf>, line 3)",
     "output_type": "error",
     "traceback": [
      "\u001b[1;36m  File \u001b[1;32m\"<ipython-input-91-1bc36e8958bf>\"\u001b[1;36m, line \u001b[1;32m3\u001b[0m\n\u001b[1;33m    show()\u001b[0m\n\u001b[1;37m       ^\u001b[0m\n\u001b[1;31mSyntaxError\u001b[0m\u001b[1;31m:\u001b[0m invalid syntax\n"
     ]
    }
   ],
   "source": [
    "sol = euler(ec_diff,[0,1],3.,.001)\n",
    "plot(sol[0],sol[1],sol[0],exp(sol[0])\n",
    "show()"
   ]
  },
  {
   "cell_type": "code",
   "execution_count": 92,
   "metadata": {
    "collapsed": true
   },
   "outputs": [],
   "source": [
    "def otra_func(y,t):\n",
    "    return -y*t"
   ]
  },
  {
   "cell_type": "code",
   "execution_count": 93,
   "metadata": {
    "collapsed": false
   },
   "outputs": [
    {
     "ename": "SyntaxError",
     "evalue": "invalid syntax (<ipython-input-93-292ee76a4c13>, line 3)",
     "output_type": "error",
     "traceback": [
      "\u001b[1;36m  File \u001b[1;32m\"<ipython-input-93-292ee76a4c13>\"\u001b[1;36m, line \u001b[1;32m3\u001b[0m\n\u001b[1;33m    show()\u001b[0m\n\u001b[1;37m       ^\u001b[0m\n\u001b[1;31mSyntaxError\u001b[0m\u001b[1;31m:\u001b[0m invalid syntax\n"
     ]
    }
   ],
   "source": [
    "sol = euler(otra_func,[0,1],3.,.001)\n",
    "plot(sol[0],sol[1],sol[0],exp(-.5*sol[0]**2)\n",
    "show()"
   ]
  },
  {
   "cell_type": "code",
   "execution_count": null,
   "metadata": {
    "collapsed": true
   },
   "outputs": [],
   "source": [
    "def Erandi(f,x):\n",
    "    return (1./(sin(x)+2))*(((2.f)/sqrt(3))**2 - 1)"
   ]
  },
  {
   "cell_type": "code",
   "execution_count": 87,
   "metadata": {
    "collapsed": false
   },
   "outputs": [
    {
     "name": "stdout",
     "output_type": "stream",
     "text": [
      "[array([4, 5]), array([1, 7]), array([4, 5]), array([1, 7])]\n"
     ]
    }
   ],
   "source": [
    "a=[array([4,5]),array([1,7])]\n",
    "print 2*a"
   ]
  },
  {
   "cell_type": "code",
   "execution_count": 94,
   "metadata": {
    "collapsed": true
   },
   "outputs": [],
   "source": [
    "a=[0]*5"
   ]
  },
  {
   "cell_type": "code",
   "execution_count": 96,
   "metadata": {
    "collapsed": true
   },
   "outputs": [],
   "source": [
    "def segundo_orden(y,t):\n",
    "    return array([y[1],-y[0]])"
   ]
  },
  {
   "cell_type": "code",
   "execution_count": 98,
   "metadata": {
    "collapsed": false
   },
   "outputs": [
    {
     "name": "stdout",
     "output_type": "stream",
     "text": [
      "[array([0, 1]), array([ 0.01,  1.  ]), array([ 0.02  ,  0.9999]), array([ 0.029999,  0.9997  ]), array([ 0.039996  ,  0.99940001]), array([ 0.04999   ,  0.99900005]), array([ 0.05998   ,  0.99850015]), array([ 0.069965  ,  0.99790035]), array([ 0.07994401,  0.9972007 ]), array([ 0.08991601,  0.99640126]), array([ 0.09988003,  0.9955021 ]), array([ 0.10983505,  0.9945033 ]), array([ 0.11978008,  0.99340495]), array([ 0.12971413,  0.99220715]), array([ 0.1396362 ,  0.99091001]), array([ 0.1495453 ,  0.98951364]), array([ 0.15944044,  0.98801819]), array([ 0.16932062,  0.98642379]), array([ 0.17918486,  0.98473058]), array([ 0.18903216,  0.98293873]), array([ 0.19886155,  0.98104841]), array([ 0.20867203,  0.9790598 ]), array([ 0.21846263,  0.97697308]), array([ 0.22823236,  0.97478845]), array([ 0.23798025,  0.97250613]), array([ 0.24770531,  0.97012632]), array([ 0.25740657,  0.96764927]), array([ 0.26708306,  0.9650752 ]), array([ 0.27673382,  0.96240437]), array([ 0.28635786,  0.95963704]), array([ 0.29595423,  0.95677346]), array([ 0.30552196,  0.95381391]), array([ 0.3150601 ,  0.95075869]), array([ 0.32456769,  0.94760809]), array([ 0.33404377,  0.94436242]), array([ 0.3434874 ,  0.94102198]), array([ 0.35289762,  0.93758711]), array([ 0.36227349,  0.93405813]), array([ 0.37161407,  0.93043539]), array([ 0.38091842,  0.92671925]), array([ 0.39018561,  0.92291007]), array([ 0.39941472,  0.91900821]), array([ 0.4086048 ,  0.91501407]), array([ 0.41775494,  0.91092802]), array([ 0.42686422,  0.90675047]), array([ 0.43593172,  0.90248183]), array([ 0.44495654,  0.89812251]), array([ 0.45393777,  0.89367294]), array([ 0.4628745 ,  0.88913357]), array([ 0.47176583,  0.88450482]), array([ 0.48061088,  0.87978716]), array([ 0.48940875,  0.87498105]), array([ 0.49815856,  0.87008697]), array([ 0.50685943,  0.86510538]), array([ 0.51551049,  0.86003679]), array([ 0.52411085,  0.85488168]), array([ 0.53265967,  0.84964057]), array([ 0.54115608,  0.84431398]), array([ 0.54959922,  0.83890242]), array([ 0.55798824,  0.83340642]), array([ 0.5663223 ,  0.82782654]), array([ 0.57460057,  0.82216332]), array([ 0.5828222 ,  0.81641731]), array([ 0.59098638,  0.81058909]), array([ 0.59909227,  0.80467923]), array([ 0.60713906,  0.7986883 ]), array([ 0.61512594,  0.79261691]), array([ 0.62305211,  0.78646565]), array([ 0.63091677,  0.78023513]), array([ 0.63871912,  0.77392597]), array([ 0.64645838,  0.76753877]), array([ 0.65413377,  0.76107419]), array([ 0.66174451,  0.75453285]), array([ 0.66928984,  0.74791541]), array([ 0.67676899,  0.74122251]), array([ 0.68418122,  0.73445482]), array([ 0.69152576,  0.72761301]), array([ 0.69880189,  0.72069775]), array([ 0.70600887,  0.71370973]), array([ 0.71314597,  0.70664964]), array([ 0.72021247,  0.69951818]), array([ 0.72720765,  0.69231606]), array([ 0.73413081,  0.68504398]), array([ 0.74098125,  0.67770267]), array([ 0.74775827,  0.67029286]), array([ 0.7544612 ,  0.66281528]), array([ 0.76108936,  0.65527067]), array([ 0.76764206,  0.64765977]), array([ 0.77411866,  0.63998335]), array([ 0.78051849,  0.63224216]), array([ 0.78684092,  0.62443698]), array([ 0.79308528,  0.61656857]), array([ 0.79925097,  0.60863772]), array([ 0.80533735,  0.60064521]), array([ 0.8113438 ,  0.59259183]), array([ 0.81726972,  0.5844784 ]), array([ 0.8231145,  0.5763057]), array([ 0.82887756,  0.56807455]), array([ 0.8345583 ,  0.55978578]), array([ 0.84015616,  0.5514402 ]), array([ 0.84567056,  0.54303863]), array([ 0.85110095,  0.53458193]), array([ 0.85644677,  0.52607092]), array([ 0.86170748,  0.51750645]), array([ 0.86688254,  0.50888938]), array([ 0.87197144,  0.50022055]), array([ 0.87697364,  0.49150084]), array([ 0.88188865,  0.4827311 ]), array([ 0.88671596,  0.47391221]), array([ 0.89145508,  0.46504505]), array([ 0.89610554,  0.4561305 ]), array([ 0.90066684,  0.44716945]), array([ 0.90513853,  0.43816278]), array([ 0.90952016,  0.42911139]), array([ 0.91381128,  0.42001619]), array([ 0.91801144,  0.41087808]), array([ 0.92212022,  0.40169797]), array([ 0.9261372 ,  0.39247676]), array([ 0.93006197,  0.38321539]), array([ 0.93389412,  0.37391477]), array([ 0.93763327,  0.36457583]), array([ 0.94127903,  0.3551995 ]), array([ 0.94483102,  0.34578671]), array([ 0.94828889,  0.3363384 ]), array([ 0.95165227,  0.32685551]), array([ 0.95492083,  0.31733899]), array([ 0.95809422,  0.30778978]), array([ 0.96117212,  0.29820884]), array([ 0.9641542 ,  0.28859711]), array([ 0.96704017,  0.27895557]), array([ 0.96982973,  0.26928517]), array([ 0.97252258,  0.25958687]), array([ 0.97511845,  0.24986165]), array([ 0.97761707,  0.24011046]), array([ 0.98001817,  0.23033429]), array([ 0.98232151,  0.22053411]), array([ 0.98452686,  0.2107109 ]), array([ 0.98663396,  0.20086563]), array([ 0.98864262,  0.19099929]), array([ 0.99055261,  0.18111286]), array([ 0.99236374,  0.17120733]), array([ 0.99407582,  0.1612837 ]), array([ 0.99568865,  0.15134294]), array([ 0.99720208,  0.14138605]), array([ 0.99861594,  0.13141403]), array([ 0.99993008,  0.12142787]), array([ 1.00114436,  0.11142857]), array([ 1.00225865,  0.10141713]), array([ 1.00327282,  0.09139454]), array([ 1.00418676,  0.08136181]), array([ 1.00500038,  0.07131995]), array([ 1.00571358,  0.06126994]), array([ 1.00632628,  0.05121281]), array([ 1.00683841,  0.04114954]), array([ 1.0072499 ,  0.03108116]), array([ 1.00756072,  0.02100866]), array([ 1.0077708 ,  0.01093305]), array([  1.00788013e+00,   8.55344724e-04]), array([ 1.00788869, -0.00922346]), array([ 1.00779645, -0.01930234]), array([ 1.00760343, -0.02938031]), array([ 1.00730963, -0.03945634]), array([ 1.00691506, -0.04952944]), array([ 1.00641977, -0.05959859]), array([ 1.00582378, -0.06966279]), array([ 1.00512715, -0.07972102]), array([ 1.00432994, -0.0897723 ]), array([ 1.00343222, -0.0998156 ]), array([ 1.00243407, -0.10984992]), array([ 1.00133557, -0.11987426]), array([ 1.00013682, -0.12988761]), array([ 0.99883795, -0.13988898]), array([ 0.99743906, -0.14987736]), array([ 0.99594028, -0.15985175]), array([ 0.99434177, -0.16981116]), array([ 0.99264365, -0.17975457]), array([ 0.99084611, -0.18968101]), array([ 0.9889493 , -0.19958947]), array([ 0.9869534 , -0.20947896]), array([ 0.98485861, -0.2193485 ]), array([ 0.98266513, -0.22919708]), array([ 0.98037316, -0.23902374]), array([ 0.97798292, -0.24882747]), array([ 0.97549465, -0.2586073 ]), array([ 0.97290857, -0.26836224]), array([ 0.97022495, -0.27809133]), array([ 0.96744404, -0.28779358]), array([ 0.9645661 , -0.29746802]), array([ 0.96159142, -0.30711368]), array([ 0.95852029, -0.31672959]), array([ 0.95535299, -0.3263148 ]), array([ 0.95208984, -0.33586833]), array([ 0.94873116, -0.34538922]), array([ 0.94527727, -0.35487654]), array([ 0.9417285 , -0.36432931]), array([ 0.93808521, -0.37374659]), array([ 0.93434774, -0.38312745]), array([ 0.93051647, -0.39247092]), array([ 0.92659176, -0.40177609]), array([ 0.922574  , -0.41104201]), array([ 0.91846358, -0.42026775])]\n"
     ]
    }
   ],
   "source": [
    "sol = euler(segundo_orden,[1,array([0,1])],3)\n",
    "print sol[1]"
   ]
  },
  {
   "cell_type": "code",
   "execution_count": null,
   "metadata": {
    "collapsed": true
   },
   "outputs": [],
   "source": []
  }
 ],
 "metadata": {
  "kernelspec": {
   "display_name": "Python [Root]",
   "language": "python",
   "name": "Python [Root]"
  },
  "language_info": {
   "codemirror_mode": {
    "name": "ipython",
    "version": 2
   },
   "file_extension": ".py",
   "mimetype": "text/x-python",
   "name": "python",
   "nbconvert_exporter": "python",
   "pygments_lexer": "ipython2",
   "version": "2.7.12"
  }
 },
 "nbformat": 4,
 "nbformat_minor": 0
}
