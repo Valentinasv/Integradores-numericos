{
 "cells": [
  {
   "cell_type": "code",
   "execution_count": 2,
   "metadata": {
    "collapsed": true
   },
   "outputs": [],
   "source": [
    "from pylab import*\n",
    "from scipy.integrate import*\n",
    "%matplotlib inline"
   ]
  },
  {
   "cell_type": "code",
   "execution_count": 3,
   "metadata": {
    "collapsed": true
   },
   "outputs": [],
   "source": [
    "def osc(y_v,t,omega=1.):\n",
    "    #y_v son las variables y,v\n",
    "    dy = y_v[1]\n",
    "    dv = -omega*y_v[0]-0.01*y_v[1]+0.5*sin(2*t)\n",
    "    return array([dy,dv])"
   ]
  },
  {
   "cell_type": "code",
   "execution_count": 4,
   "metadata": {
    "collapsed": false
   },
   "outputs": [
    {
     "data": {
      "image/png": "[encoded data removed]",
      "text/plain": [
       "<matplotlib.figure.Figure at 0x7f6560298c10>"
      ]
     },
     "metadata": {},
     "output_type": "display_data"
    }
   ],
   "source": [
    "t = linspace(0,1000,10000)\n",
    "ini = array([0.1,2.])\n",
    "sol = odeint(osc,ini,t)\n",
    "plot(t,sol[:,0],label=\"$y$\")\n",
    " #plot(t,sol[:,1],label=\"$v_y$\")\n",
    "grid(True),legend()\n",
    "show()"
   ]
  },
  {
   "cell_type": "code",
   "execution_count": 5,
   "metadata": {
    "collapsed": false
   },
   "outputs": [
    {
     "name": "stdout",
     "output_type": "stream",
     "text": [
      "6.23309345576 [ -3.19402167e-09   1.93248781e+00]\n"
     ]
    }
   ],
   "source": [
    "ind = 49\n",
    "ti,pto_i = t[ind],sol[ind]\n",
    "error = 1e-5\n",
    "while abs (pto_i[0])>error:\n",
    "    tip1 = ti - (pto_i[0]/pto_i[1])\n",
    "    paso = odeint(osc,pto_i,[ti,tip1])\n",
    "    ti,pto_i = tip1,paso[-1]\n",
    "print ti,pto_i"
   ]
  },
  {
   "cell_type": "code",
   "execution_count": 6,
   "metadata": {
    "collapsed": true
   },
   "outputs": [],
   "source": [
    "def root_trayec(func,pto_i,ti,error=1e-5):\n",
    "    while abs (pto_i[0])>error:\n",
    "            tip1 = ti - (pto_i[0]/pto_i[1])\n",
    "            paso = odeint(osc,pto_i,[ti,tip1])\n",
    "            ti,pto_i = tip1,paso[-1]\n",
    "    return ti,pto_i"
   ]
  },
  {
   "cell_type": "code",
   "execution_count": 7,
   "metadata": {
    "collapsed": false
   },
   "outputs": [
    {
     "name": "stdout",
     "output_type": "stream",
     "text": [
      "-0.0499366558903 [ -2.08761560e-06   2.00474354e+00]\n"
     ]
    }
   ],
   "source": [
    "ind = 10\n",
    "ti,pto_i = t[ind],sol[ind]\n",
    "t_raiz,punto = root_trayec(osc,pto_i,ti)\n",
    "print t_raiz,punto"
   ]
  },
  {
   "cell_type": "code",
   "execution_count": 8,
   "metadata": {
    "collapsed": false
   },
   "outputs": [
    {
     "name": "stdout",
     "output_type": "stream",
     "text": [
      "(array([   3.10338483,    6.23309336,    9.38677862,   12.5161091 ,\n",
      "         15.67017522,   18.79912192,   21.95357466,   25.08212046,\n",
      "         28.23697689,   31.3651076 ,   34.52038499,   37.64808269,\n",
      "         40.80378958,   43.93104536,   47.08720025,   50.21399303,\n",
      "         53.37061377,   56.49693005,   59.65403015,   62.77985061,\n",
      "         65.93744943,   69.06275513,   72.2208736 ,   75.34564309,\n",
      "         78.5042966 ,   81.62851345,   84.78772456,   87.91136443,\n",
      "         91.07115536,   94.19419595,   97.35458912,  100.47700567,\n",
      "        103.63802569,  106.75979281,  109.92146639,  113.04255532,\n",
      "        116.20490757,  119.32528587,  122.48835282,  125.60800067,\n",
      "        128.77180087,  131.89067921,  135.05525176,  138.17332586,\n",
      "        141.3387055 ,  144.45593749,  147.62216253,  150.73851185,\n",
      "        153.90562113,  157.02104448,  160.18908299,  163.30353592,\n",
      "        166.47254751,  169.58597864,  172.75601464,  175.86836951,\n",
      "        179.03948432,  182.15070416,  185.3229567 ,  188.43296483,\n",
      "        191.60643112,  194.71518315,  197.88990812,  200.99731464,\n",
      "        204.17338742,  207.27936432,  210.45686898,  213.56132397,\n",
      "        216.74035969,  219.84318344,  223.0238386 ,  226.12493098,\n",
      "        229.30732642,  232.40655493,  235.5908162 ,  238.68803852,\n",
      "        241.87430781,  244.96936443,  248.15780116,  251.25051176,\n",
      "        254.4413011 ,  257.53145139,  260.72479268,  263.81216669,\n",
      "        267.00829064,  270.09260995,  273.29178992,  276.37274222,\n",
      "        279.57529041,  282.65251141,  285.858792  ,  288.9318515 ,\n",
      "        292.14229784,  295.21068754,  298.42579798,  301.48891669,\n",
      "        304.70930212,  307.76641188,  310.99280687,  314.04295939,\n",
      "        317.27631208,  320.31849674,  323.55981764,  326.59261348,\n",
      "        329.84332536,  332.86498669,  336.12682925,  339.13514405,\n",
      "        342.41033502,  345.40246408,  348.69384059,  351.66623377,\n",
      "        354.97734583,  357.92555009,  361.26085059,  364.17962337,\n",
      "        367.5443557 ,  370.42811739,  373.82785811,  376.67143291,\n",
      "        380.1113606 ,  382.91098474,  386.39486206,  389.14861311,\n",
      "        392.67836235,  395.38601452,  398.96187546,  401.62450571,\n",
      "        405.24535923,  407.86466025,  411.52885485,  414.10682743,\n",
      "        417.81234911,  420.35107847,  421.21786153,  421.36656127,\n",
      "        424.09584155,  426.59734125,  427.43292702,  427.75383128,\n",
      "        430.37933203,  432.84560361,  433.6823281 ,  434.10538342,\n",
      "        436.66283057,  439.09565187,  439.94284889,  440.44389406,\n",
      "        442.94630665,  445.34740955,  446.20937557,  446.77467145,\n",
      "        449.22979045,  451.60072123,  452.47964284,  453.10015247,\n",
      "        455.51327187,  457.85550997,  458.75244745,  459.42164128,\n",
      "        461.79675075,  464.11160029,  465.02712919,  465.73994736,\n",
      "        468.08022696,  470.36899012,  471.30317553,  472.05562711,\n",
      "        474.36370716,  476.62747751,  477.58028894,  478.36908432,\n",
      "        480.64717099,  482.88712545,  483.85822754,  484.680622  ,\n",
      "        486.93063862,  489.14775094,  490.13688193,  490.99047542,\n",
      "        493.2141032 ,  495.40931255,  496.41607425,  497.29883158,\n",
      "        499.49756465,  501.67178325,  502.69567275,  503.60584252,\n",
      "        505.78102288,  507.93505657,  508.97572648,  509.91163443,\n",
      "        512.06448182,  514.19916708,  515.2561342 ,  516.21631385,\n",
      "        518.34792935,  520.46400306,  521.53678523,  522.51997202,\n",
      "        524.63137746,  526.7295284 ,  527.81767596,  528.82268798,\n",
      "        530.91482207,  532.99574605,  534.09881078,  535.12453089,\n",
      "        537.19826312,  539.26258749,  540.38004634,  541.42556169,\n",
      "        543.48170055,  545.53002177,  546.66150331,  547.72583447,\n",
      "        549.76513632,  551.79804531,  552.94309372,  554.02539749,\n",
      "        556.04856434,  558.06660873,  559.22480814,  560.32429409,\n",
      "        562.33199062,  564.3356854 ,  565.5066354 ,  566.6225633 ,\n",
      "        568.61541312,  570.60527284,  571.78857463,  572.92024051,\n",
      "        574.89883179,  576.87533119,  578.07057926,  579.21735791,\n",
      "        581.18226639,  583.14583685,  584.35268417,  585.51394491,\n",
      "        587.46565831,  589.41679104,  590.63485979,  591.81002851,\n",
      "        593.74906461,  595.68815901,  596.91710282,  598.10563356,\n",
      "        600.03246777,  601.95991905,  603.19940727,  604.40078304,\n",
      "        606.31586701,  608.23207668,  609.48176973,  610.69549827,\n",
      "        612.59926234,  614.50460038,  615.76417957,  616.9897991 ,\n",
      "        618.88266683,  620.77747774,  622.04663877,  623.28370405,\n",
      "        625.16604136,  627.05069323,  628.32914124,  629.57723044,\n",
      "        631.44942478,  633.32424278,  634.61168369,  635.87041677,\n",
      "        637.73280445,  639.59810707,  640.89428821,  642.16322883,\n",
      "        644.01618024,  645.87225102,  647.17687624,  648.45570664,\n",
      "        650.29955215,  652.14673562,  653.45952175,  654.74786766,\n",
      "        656.58292803,  658.42148141,  659.74219644,  661.03972408,\n",
      "        662.86628442,  664.69649919,  666.02489847,  667.3312875 ,\n",
      "        669.14964484,  670.97177177,  672.307626  ,  673.62256904,\n",
      "        675.43300148,  677.24731333,  678.59038719,  679.9135793 ,\n",
      "        681.71635439,  683.52309341,  684.87315065,  686.20432843,\n",
      "        687.99970358,  689.7991096 ,  691.15594513,  692.49482614,\n",
      "        694.28305312,  696.07534353,  697.43875895,  698.78508171,\n",
      "        700.56639095,  702.35181854,  703.72159103,  705.07511097,\n",
      "        706.84972922,  708.62849718,  710.00444025,  711.3649066 ,\n",
      "        713.13306395,  714.90538158,  716.28730851,  717.65448508,\n",
      "        719.41639516,  721.18243582,  722.57018602,  723.94385577,\n",
      "        725.6997229 ,  727.4597404 ,  728.85308083,  730.23302569,\n",
      "        731.98304885,  733.73720262,  735.13598908,  736.52200166,\n",
      "        738.26636814,  740.01484469,  741.41891004,  742.8107903 ,\n",
      "        744.54968577,  746.29266075,  747.7018661 ,  749.09939801,\n",
      "        750.83300012,  752.57064489,  753.9847877 ,  755.38783102,\n",
      "        757.11631125,  758.84879238,  760.26774226,  761.67609883,\n",
      "        763.39963686,  765.12709745,  766.55070745,  767.9641983 ,\n",
      "        769.68292445,  771.40555501,  772.83368226,  774.25214119,\n",
      "        775.96622579,  777.68415172,  779.11666619,  780.53993246,\n",
      "        782.24952455,  783.96290811,  785.39966945,  786.82757702,\n",
      "        788.53282036,  790.24179454,  791.68265954,  793.11507962,\n",
      "        794.81611327,  796.52081486,  797.96566813,  799.40244495,\n",
      "        801.09941357,  802.79996479,  804.24868416,  805.68969435,\n",
      "        807.38269062,  809.07924017,  810.53170725,  811.97678327,\n",
      "        813.66597511,  815.35863718,  816.81473705,  818.26376244,\n",
      "        819.94925696,  821.63815188,  823.09777725,  824.550622  ,\n",
      "        826.23253619,  827.91778057,  829.38081547,  830.83736569,\n",
      "        832.51581285,  834.19749121,  835.66386357,  837.12399715,\n",
      "        838.79909211,  840.47736556,  841.9469172 ,  843.41051998,\n",
      "        845.08235864,  846.75731509,  848.22997611,  849.6969618 ,\n",
      "        851.36562791,  853.03736492,  854.51306677,  855.98325468,\n",
      "        857.64889483,  859.31751191,  860.79610981,  862.26947157,\n",
      "        863.93215944,  865.59773756,  867.07918213,  868.55559351,\n",
      "        870.21542181,  871.87808528,  873.36225989,  874.84162342,\n",
      "        876.49868401,  878.15850589,  879.64534185,  881.12756415,\n",
      "        882.78193999,  884.43901208,  885.92842782,  887.41341852,\n",
      "        889.06519593,  890.71960117,  892.21153156,  893.69920228,\n",
      "        895.34844982,  897.00025895,  898.49461118,  899.98487962,\n",
      "        901.63170173,  903.28101779,  904.77770808,  906.27049069,\n",
      "        907.91497095,  909.56184043,  911.06080847,  912.55602609,\n",
      "        914.19820026,  915.84273613,  917.34391208,  918.84148811,\n",
      "        920.48144595,  922.12370261,  923.62701878,  925.12687905,\n",
      "        926.76469037,  928.40472563,  929.91013467,  931.41220111,\n",
      "        933.04793304,  934.6858392 ,  936.19324092,  937.69745788,\n",
      "        939.331174  ,  940.96701708,  942.47635617,  943.98264751,\n",
      "        945.61442408,  947.2482335 ,  948.75947403,  950.26777558,\n",
      "        951.897651  ,  953.52952232,  955.0425944 ,  956.55284319,\n",
      "        958.18088704,  959.81085499,  961.32571717,  962.83785218,\n",
      "        964.46412161,  966.0922739 ,  967.60884437,  969.12280437,\n",
      "        970.74735468,  972.37373314,  973.89196953,  975.40771127,\n",
      "        977.0305863 ,  978.65523858,  980.17509897,  981.69254565,\n",
      "        983.31382169,  984.93680993,  986.45823046,  987.97733775,\n",
      "        989.59704532,  991.21840632,  992.74136392,  994.26207994,\n",
      "        995.88027282,  997.50008706,  999.02451872]), array([[ -8.54441855e-08,  -2.63247337e+00],\n",
      "       [ -1.23451144e-11,   1.93248804e+00],\n",
      "       [ -6.96068536e-10,  -2.56134562e+00],\n",
      "       ..., \n",
      "       [ -1.44808690e-10,  -3.49384649e-01],\n",
      "       [ -3.68563990e-09,   3.33084467e-01],\n",
      "       [ -6.17717870e-06,  -3.17516555e-01]]))\n"
     ]
    }
   ],
   "source": [
    "num = len(t)\n",
    "raices = zeros(num)\n",
    "puntos = zeros ((num,2))\n",
    "j=0 \n",
    "for i in range(len(t)-1):\n",
    "    if(sol[i][0]*sol[i+1][0]) < 0:\n",
    "        raices[j],puntos[j]= root_trayec(osc,sol[i],t[i])\n",
    "        j+=1\n",
    "raices = raices[0:j],puntos[0:j]\n",
    "print raices\n",
    "#rint puntos"
   ]
  },
  {
   "cell_type": "code",
   "execution_count": null,
   "metadata": {
    "collapsed": true
   },
   "outputs": [],
   "source": []
  },
  {
   "cell_type": "code",
   "execution_count": null,
   "metadata": {
    "collapsed": true
   },
   "outputs": [],
   "source": []
  }
 ],
 "metadata": {
  "kernelspec": {
   "display_name": "Python [Root]",
   "language": "python",
   "name": "Python [Root]"
  },
  "language_info": {
   "codemirror_mode": {
    "name": "ipython",
    "version": 2
   },
   "file_extension": ".py",
   "mimetype": "text/x-python",
   "name": "python",
   "nbconvert_exporter": "python",
   "pygments_lexer": "ipython2",
   "version": "2.7.12"
  }
 },
 "nbformat": 4,
 "nbformat_minor": 0
}
