{
 "cells": [
  {
   "cell_type": "markdown",
   "metadata": {},
   "source": [
    "# Segundo metodo \n",
    "\n",
    "$$\n",
    "y_{n+1} = y_n + h f(x_n,y_n) + \\frac{h^2}{2} \\left ( \\frac{\\partial f}{\\partial x} + \\frac{\\partial f}{\\partial y} f \\right )\n",
    "$$\n",
    "\n",
    "donde $f$ y sus parciales estan evaluadas $f(x_n,y_n)$"
   ]
  },
  {
   "cell_type": "code",
   "execution_count": 15,
   "metadata": {
    "collapsed": true
   },
   "outputs": [],
   "source": [
    "from pylab import *\n",
    "%matplotlib inline"
   ]
  },
  {
   "cell_type": "code",
   "execution_count": 44,
   "metadata": {
    "collapsed": true
   },
   "outputs": [],
   "source": [
    "def segundo_orden(ec_diff,p_ini,t_final,jac_ec,h=0.1):    #el metodo de integracion que vemos es a segundo orden\n",
    "    tiempo = arange(0,t_final+h,h)\n",
    "    y = zeros(len(tiempo))\n",
    "    y[0] = p_ini\n",
    "    for i in range(len(tiempo)-1):\n",
    "        y[i+1] = y[i] + h*ec_diff(y[i],tiempo[i])\n",
    "        y[i+1] += 0.5*h*h*jac_ec(y[i],tiempo[i])[0] #componente 0\n",
    "        y[i+1] += 0.5*h*h*jac_ec(y[i],tiempo[i])[1]*ec_diff(y[i],tiempo[i])#componente 1 y ecuacion diferencial\n",
    "    return tiempo,y\n"
   ]
  },
  {
   "cell_type": "code",
   "execution_count": 45,
   "metadata": {
    "collapsed": true
   },
   "outputs": [],
   "source": [
    "def euler1(ec_diff,p_ini,t_final,h=0.1):\n",
    "    tiempo = arange(0,t_final+h,h)\n",
    "    y = zeros(len(tiempo))\n",
    "    y[0] = p_ini\n",
    "    for i in range(len(tiempo)-1):\n",
    "        y[i+1]= y[i] + h*ec_diff(y[i],tiempo[i])   \n",
    "    return tiempo,y   "
   ]
  },
  {
   "cell_type": "code",
   "execution_count": 39,
   "metadata": {
    "collapsed": true
   },
   "outputs": [],
   "source": [
    "def ec_dif(y,x):    #definimos una ecuacion diferencial de prueba\n",
    "    return x*sin(y)\n",
    "\n",
    "\n",
    "def d_ec_dif(y,x):\n",
    "    return sin(y), x*cos(y)"
   ]
  },
  {
   "cell_type": "code",
   "execution_count": 9,
   "metadata": {
    "collapsed": false
   },
   "outputs": [
    {
     "data": {
      "text/plain": [
       "(0.70710678118654746, 1.4142135623730951)"
      ]
     },
     "execution_count": 9,
     "metadata": {},
     "output_type": "execute_result"
    }
   ],
   "source": [
    "d_ec_dif(pi/4,2)"
   ]
  },
  {
   "cell_type": "code",
   "execution_count": 50,
   "metadata": {
    "collapsed": false
   },
   "outputs": [
    {
     "data": {
      "image/png": "[encoded data removed]",
      "text/plain": [
       "<matplotlib.figure.Figure at 0x7fd3c3d44a50>"
      ]
     },
     "metadata": {},
     "output_type": "display_data"
    }
   ],
   "source": [
    "y_euler = euler1(ec_dif,1,2.5)\n",
    "y_euler_01 = euler1(ec_dif,1,2.5,0.01)\n",
    "y_seg = segundo_orden(ec_dif,1,2.5,d_ec_dif)\n",
    "plot(y_euler[0],y_euler[1],'--',label=\"Euler h=0\")\n",
    "plot(y_euler_01[0],y_euler_01[1],'--',label=\"Euler h=0.01\")\n",
    "plot(y_seg[0],y_seg[1],'o',label=\"SG h=0.1\")\n",
    "legend()     \n",
    "show()"
   ]
  },
  {
   "cell_type": "code",
   "execution_count": null,
   "metadata": {
    "collapsed": true
   },
   "outputs": [],
   "source": []
  }
 ],
 "metadata": {
  "kernelspec": {
   "display_name": "Python [Root]",
   "language": "python",
   "name": "Python [Root]"
  },
  "language_info": {
   "codemirror_mode": {
    "name": "ipython",
    "version": 2
   },
   "file_extension": ".py",
   "mimetype": "text/x-python",
   "name": "python",
   "nbconvert_exporter": "python",
   "pygments_lexer": "ipython2",
   "version": "2.7.12"
  }
 },
 "nbformat": 4,
 "nbformat_minor": 0
}
