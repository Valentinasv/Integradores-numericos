{
 "cells": [
  {
   "cell_type": "markdown",
   "metadata": {},
   "source": [
    "Para obtener un mejor resultado en la integracion es mejor utilizar la aproximacion de segundo orden y con varias variables. Como vimos en clase:\n",
    "\n",
    "$$\n",
    "\\vec y_{n+1} = \\vec y_n + h \\vec f + \\frac{1}{2} h^2 \\left ( \\frac{\\partial \\vec f}{\\partial x} + \\mathbb{J} \\vec f \\right)\n",
    "$$\n",
    "donde $f$ es $f(x_n, \\vec y_n)$, $\\mathbb{J}$  es el jacobiano de $f$ evaluado en $(x_n, \\vec y_n)$ y el orden del error es $O(h^2)$"
   ]
  },
  {
   "cell_type": "code",
   "execution_count": 2,
   "metadata": {
    "collapsed": false
   },
   "outputs": [],
   "source": [
    "from pylab import*\n",
    "%matplotlib inline"
   ]
  },
  {
   "cell_type": "code",
   "execution_count": null,
   "metadata": {
    "collapsed": true
   },
   "outputs": [],
   "source": [
    "def integra2(f,jac,p_ini,x,h=0.1):\n",
    "    jn1 = yn + (h*f) + (0.5*h*h(jac[0]) + dot(jac[1],f))"
   ]
  },
  {
   "cell_type": "code",
   "execution_count": 3,
   "metadata": {
    "collapsed": false
   },
   "outputs": [
    {
     "name": "stdout",
     "output_type": "stream",
     "text": [
      "[2 6] [2, 6]\n",
      "[ 4 12] [2, 6, 2, 6]\n"
     ]
    }
   ],
   "source": [
    "a=array([2,6])\n",
    "b=[2,6]\n",
    "print a,b\n",
    "print 2*a,2*b"
   ]
  },
  {
   "cell_type": "code",
   "execution_count": 7,
   "metadata": {
    "collapsed": false
   },
   "outputs": [
    {
     "name": "stdout",
     "output_type": "stream",
     "text": [
      "[[1 0]\n",
      " [0 1]]\n",
      "[[1 0]\n",
      " [0 1]]\n",
      "[[2 0]\n",
      " [0 6]]\n",
      "[[2 6]] 1\n"
     ]
    }
   ],
   "source": [
    "A = array([[1,0],[0,1]])\n",
    "A2 = matrix([[1,0],[0,1]])\n",
    "print A\n",
    "print A2\n",
    "print A*b\n",
    "print dot(A2,b), len(dot(A2,b))#no debemos de hacer esto, es decir, hacer producto punto entre una matriz con un vector porque lo que tenemos a la salida es algo de 1 dimension "
   ]
  },
  {
   "cell_type": "code",
   "execution_count": 10,
   "metadata": {
    "collapsed": false
   },
   "outputs": [
    {
     "name": "stdout",
     "output_type": "stream",
     "text": [
      "1 2 3 4\n",
      "[[ 6 14]\n",
      " [18 28]]\n"
     ]
    }
   ],
   "source": [
    "A = array([[1,2],[3,4]])\n",
    "a = array([6,7])\n",
    "print A[0,0],A[0,1],A[1,0],A[1,1]\n",
    "print A*a"
   ]
  },
  {
   "cell_type": "code",
   "execution_count": 11,
   "metadata": {
    "collapsed": false
   },
   "outputs": [
    {
     "name": "stdout",
     "output_type": "stream",
     "text": [
      "[20 46]\n"
     ]
    }
   ],
   "source": [
    "print dot(A,a)#Si queremos algo de dos dimensiones o de 2 entradas necesitamos definir \"arreglos\" vistos como matriz y como vectores."
   ]
  },
  {
   "cell_type": "code",
   "execution_count": null,
   "metadata": {
    "collapsed": true
   },
   "outputs": [],
   "source": []
  }
 ],
 "metadata": {
  "kernelspec": {
   "display_name": "Python [Root]",
   "language": "python",
   "name": "Python [Root]"
  },
  "language_info": {
   "codemirror_mode": {
    "name": "ipython",
    "version": 2
   },
   "file_extension": ".py",
   "mimetype": "text/x-python",
   "name": "python",
   "nbconvert_exporter": "python",
   "pygments_lexer": "ipython2",
   "version": "2.7.12"
  }
 },
 "nbformat": 4,
 "nbformat_minor": 0
}
