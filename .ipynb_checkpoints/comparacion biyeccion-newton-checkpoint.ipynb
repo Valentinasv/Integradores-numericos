{
 "cells": [
  {
   "cell_type": "code",
   "execution_count": 25,
   "metadata": {
    "collapsed": true
   },
   "outputs": [],
   "source": [
    "from pylab import*\n",
    "%matplotlib inline"
   ]
  },
  {
   "cell_type": "code",
   "execution_count": 26,
   "metadata": {
    "collapsed": false
   },
   "outputs": [],
   "source": [
    "def raiz_bip(func,x_i,x_d,err=1e-8):\n",
    "    raiz = 0.5*(x_i+x_d)\n",
    "    y_i,y_d = func(x_i),func(x_d)\n",
    "    n = 0\n",
    "    while abs(raiz - x_d) >= err and abs(y_i-y_d)>=err:\n",
    "        y_m = func(raiz)\n",
    "        if y_m == 0.:\n",
    "            print \"chin,le atine :D\"\n",
    "            break\n",
    "        if y_m*y_i < 0:\n",
    "            x_d = raiz\n",
    "        else:\n",
    "            x_i = raiz\n",
    "        raiz = 0.5*(x_i+x_d)\n",
    "        y_i,y_d = func(x_i),func(x_d)\n",
    "        n+=1\n",
    "        print n,\"\\t\",raiz\n",
    "    return raiz"
   ]
  },
  {
   "cell_type": "code",
   "execution_count": 27,
   "metadata": {
    "collapsed": true
   },
   "outputs": [],
   "source": [
    "def newton(func,d_func,x_i,err=1e-8):\n",
    "    n=0\n",
    "    while abs(func(x_i))>=err:\n",
    "        print n,\"\\t\",x_i\n",
    "        raiz = x_i - func(x_i)/d_func(x_i)\n",
    "        x_i = raiz\n",
    "        n+= 1\n",
    "    return raiz"
   ]
  },
  {
   "cell_type": "code",
   "execution_count": 28,
   "metadata": {
    "collapsed": false
   },
   "outputs": [
    {
     "data": {
      "image/png": "[encoded data removed]",
      "text/plain": [
       "<matplotlib.figure.Figure at 0x7feb73d21a10>"
      ]
     },
     "metadata": {},
     "output_type": "display_data"
    }
   ],
   "source": [
    "x=linspace(2,4)\n",
    "plot(x,sin(x))\n",
    "grid(True)\n",
    "show()"
   ]
  },
  {
   "cell_type": "code",
   "execution_count": 29,
   "metadata": {
    "collapsed": false
   },
   "outputs": [
    {
     "name": "stdout",
     "output_type": "stream",
     "text": [
      "la raiz es: 1 \t3.5\n",
      "2 \t3.25\n",
      "3 \t3.125\n",
      "4 \t3.1875\n",
      "5 \t3.15625\n",
      "6 \t3.140625\n",
      "7 \t3.1484375\n",
      "8 \t3.14453125\n",
      "9 \t3.142578125\n",
      "10 \t3.1416015625\n",
      "11 \t3.14111328125\n",
      "12 \t3.14135742188\n",
      "13 \t3.14147949219\n",
      "14 \t3.14154052734\n",
      "15 \t3.14157104492\n",
      "16 \t3.14158630371\n",
      "17 \t3.14159393311\n",
      "18 \t3.14159011841\n",
      "19 \t3.14159202576\n",
      "20 \t3.14159297943\n",
      "21 \t3.14159250259\n",
      "22 \t3.14159274101\n",
      "23 \t3.1415926218\n",
      "24 \t3.14159268141\n",
      "25 \t3.14159265161\n",
      "26 \t3.14159266651\n",
      "27 \t3.14159265906\n",
      "3.14159265906\n",
      "2pi: 6.28318530718\n"
     ]
    }
   ],
   "source": [
    "print \"la raiz es:\", raiz_bip(sin,2,4,1e-8)\n",
    "print \"2pi:\",2*pi"
   ]
  },
  {
   "cell_type": "code",
   "execution_count": 30,
   "metadata": {
    "collapsed": false
   },
   "outputs": [
    {
     "name": "stdout",
     "output_type": "stream",
     "text": [
      "0 \t2\n",
      "1 \t4.18503986326\n",
      "2 \t2.46789367451\n",
      "3 \t3.26618627757\n",
      "4 \t3.14094391232\n",
      "3.14159265368\n"
     ]
    }
   ],
   "source": [
    "print newton(sin,cos,2)"
   ]
  },
  {
   "cell_type": "code",
   "execution_count": null,
   "metadata": {
    "collapsed": true
   },
   "outputs": [],
   "source": []
  },
  {
   "cell_type": "code",
   "execution_count": 31,
   "metadata": {
    "collapsed": true
   },
   "outputs": [],
   "source": [
    "def f1(x):\n",
    "    return x**2 + tan(sqrt(-8*x + pi))**3\n",
    "\n",
    "\n",
    "\n",
    "def d_f1(x):\n",
    "    return 2*x - 12*(tan(sqrt(-8*x + pi))**2 + 1)*tan(sqrt(-8*x + pi))**2/sqrt(-8*x + pi)"
   ]
  },
  {
   "cell_type": "code",
   "execution_count": 39,
   "metadata": {
    "collapsed": false
   },
   "outputs": [
    {
     "data": {
      "image/png": "[encoded data removed]",
      "text/plain": [
       "<matplotlib.figure.Figure at 0x7feb73adc450>"
      ]
     },
     "metadata": {},
     "output_type": "display_data"
    }
   ],
   "source": [
    "x=linspace(-5,0,100)\n",
    "ylim([-30,30])\n",
    "plot(x,f1(x),'-')\n",
    "plot([-2.942678127881],[0],'o')\n",
    "plot([-2.942678127881],[0],'x',markersize=20)\n",
    "plot([-0.456490395218],[0],'o')\n",
    "grid(True)\n",
    "show()"
   ]
  },
  {
   "cell_type": "code",
   "execution_count": 34,
   "metadata": {
    "collapsed": false
   },
   "outputs": [
    {
     "name": "stdout",
     "output_type": "stream",
     "text": [
      "1 \t-2.95\n",
      "2 \t-2.925\n",
      "3 \t-2.9375\n",
      "4 \t-2.94375\n",
      "5 \t-2.940625\n",
      "6 \t-2.9421875\n",
      "7 \t-2.94296875\n",
      "8 \t-2.942578125\n",
      "9 \t-2.9427734375\n",
      "10 \t-2.94267578125\n",
      "11 \t-2.94272460938\n",
      "12 \t-2.94270019531\n",
      "13 \t-2.94268798828\n",
      "14 \t-2.94268188477\n",
      "15 \t-2.94267883301\n",
      "16 \t-2.94267730713\n",
      "17 \t-2.94267807007\n",
      "18 \t-2.94267845154\n",
      "19 \t-2.9426782608\n",
      "20 \t-2.94267816544\n",
      "21 \t-2.94267811775\n",
      "22 \t-2.94267814159\n",
      "23 \t-2.94267812967\n",
      "24 \t-2.94267812371\n",
      "-2.94267812371\n"
     ]
    }
   ],
   "source": [
    "print raiz_bip(f1,-3,-2.8)"
   ]
  },
  {
   "cell_type": "code",
   "execution_count": 35,
   "metadata": {
    "collapsed": false
   },
   "outputs": [
    {
     "name": "stdout",
     "output_type": "stream",
     "text": [
      "1 \t-0.325\n",
      "2 \t-0.4375\n",
      "3 \t-0.49375\n",
      "4 \t-0.465625\n",
      "5 \t-0.4515625\n",
      "6 \t-0.45859375\n",
      "7 \t-0.455078125\n",
      "8 \t-0.4568359375\n",
      "9 \t-0.45595703125\n",
      "10 \t-0.456396484375\n",
      "11 \t-0.456616210938\n",
      "12 \t-0.456506347656\n",
      "13 \t-0.456451416016\n",
      "14 \t-0.456478881836\n",
      "15 \t-0.456492614746\n",
      "16 \t-0.456485748291\n",
      "17 \t-0.456489181519\n",
      "18 \t-0.456490898132\n",
      "19 \t-0.456490039825\n",
      "20 \t-0.456490468979\n",
      "21 \t-0.456490254402\n",
      "22 \t-0.456490361691\n",
      "23 \t-0.456490415335\n",
      "24 \t-0.456490388513\n",
      "25 \t-0.456490401924\n",
      "26 \t-0.456490395218\n",
      "-0.456490395218\n"
     ]
    }
   ],
   "source": [
    "print raiz_bip(f1,-1,-0.1)"
   ]
  },
  {
   "cell_type": "code",
   "execution_count": 37,
   "metadata": {
    "collapsed": false
   },
   "outputs": [
    {
     "name": "stdout",
     "output_type": "stream",
     "text": [
      "0 \t-3\n",
      "1 \t-2.9318062049\n",
      "2 \t-2.94229732506\n",
      "3 \t-2.94267765788\n",
      "-2.94267812758\n"
     ]
    }
   ],
   "source": [
    "print newton(f1,d_f1,-3)"
   ]
  },
  {
   "cell_type": "code",
   "execution_count": 40,
   "metadata": {
    "collapsed": false
   },
   "outputs": [
    {
     "name": "stdout",
     "output_type": "stream",
     "text": [
      "0 \t1.56079632679\n",
      "1 \t-98.4358703176\n",
      "2 \t-96.706614104\n",
      "3 \t-97.5198474962\n",
      "4 \t-97.3886267904\n",
      "-97.3893722614\n",
      "0 \t1.58079632679\n",
      "1 \t101.577462971\n",
      "2 \t99.8482067576\n",
      "3 \t100.66144015\n",
      "4 \t100.530219444\n",
      "100.530964915\n"
     ]
    }
   ],
   "source": [
    "print newton(sin,cos,pi/2-0.01)\n",
    "print newton(sin,cos,pi/2+0.01)"
   ]
  }
 ],
 "metadata": {
  "kernelspec": {
   "display_name": "Python [Root]",
   "language": "python",
   "name": "Python [Root]"
  },
  "language_info": {
   "codemirror_mode": {
    "name": "ipython",
    "version": 2
   },
   "file_extension": ".py",
   "mimetype": "text/x-python",
   "name": "python",
   "nbconvert_exporter": "python",
   "pygments_lexer": "ipython2",
   "version": "2.7.12"
  }
 },
 "nbformat": 4,
 "nbformat_minor": 0
}
