{
 "cells": [
  {
   "cell_type": "code",
   "execution_count": 1,
   "metadata": {
    "collapsed": true
   },
   "outputs": [],
   "source": [
    "from pylab import*\n",
    "%matplotlib inline"
   ]
  },
  {
   "cell_type": "code",
   "execution_count": 16,
   "metadata": {
    "collapsed": false
   },
   "outputs": [],
   "source": [
    "def rk4(ec,p_ini,x,args=0,h=0.01):\n",
    "    if (x[1]-x[0])<=5.*h:\n",
    "        h=(x[1]-x[0])/10\n",
    "    tiempos = arange(x[0],x[1]+h,h)\n",
    "    sol = zeros((len(tiempos),len(p_ini)))\n",
    "    sol[0,:] = p_ini\n",
    "    if args==0:\n",
    "        for i in xrange(len(tiempos)-1):\n",
    "            k1 = ec(sol[i,:],tiempos[i])\n",
    "            k2 = ec(sol[i,:]+0.5*h*k1,tiempos[i]+0.5*h)\n",
    "            k3 = ec(sol[i,:]+0.5*h*k2,tiempos[i]+0.5*h)\n",
    "            k4 = ec(sol[i,:]+h*k3,tiempos[i]+h)\n",
    "            sol[i+1,:]=sol[i,:]+(h/6.)*(k1+2*k2+2*k3+k4)\n",
    "    else:\n",
    "        for i in xrange(len(tiempos)-1):\n",
    "            k1 = ec(sol[i,:],tiempos[i],args)\n",
    "            k2 = ec(sol[i,:]+0.5*h*k1,tiempos[i]+0.5*h,args)\n",
    "            k3 = ec(sol[i,:]+0.5*h*k2,tiempos[i]+0.5*h,args)\n",
    "            k4 = ec(sol[i,:]+h*k3,tiempos[i]+h,args)\n",
    "            sol[i+1,:]=sol[i,:]+(h/6.)*(k1+2*k2+2*k3+k4)\n",
    "    return tiempos,sol"
   ]
  },
  {
   "cell_type": "code",
   "execution_count": 3,
   "metadata": {
    "collapsed": true
   },
   "outputs": [],
   "source": [
    "def e_mov(r_v,t,fric=0,g=9.8,m=1):\n",
    "    u = sqrt(r_v[2]**2 + r_v[3]**2)\n",
    "    dx = r_v[2]\n",
    "    dy = r_v[3]\n",
    "    if fric == 0:\n",
    "        dvx,dvy = 0,-(g/m)\n",
    "        #print \"No use un modelo de friccion\"\n",
    "    else:\n",
    "        dvx = - fric([r_v[2],r_v[3]])[0]\n",
    "        dvy = -(g/m) - fric([r_v[2],r_v[3]])[1]\n",
    "        #print \"Use un modelo de friccion\"\n",
    "    return array([dx,dy,dvx,dvy])"
   ]
  },
  {
   "cell_type": "code",
   "execution_count": 4,
   "metadata": {
    "collapsed": true
   },
   "outputs": [],
   "source": [
    "def fric_v(v,gamma=0.1):\n",
    "    f_x = gamma*v[0]\n",
    "    f_y = gamma*v[1]\n",
    "    return array([f_x,f_y]) \n",
    "\n",
    "def fric_v2(v,gamma=0.1):\n",
    "    norm_v = sqrt(v[0]**2 + v[1]**2)\n",
    "    f_x = gamma*norm_v*v[0]\n",
    "    f_y = gamma*norm_v*v[1]\n",
    "    return array([f_x,f_y]) "
   ]
  },
  {
   "cell_type": "code",
   "execution_count": 5,
   "metadata": {
    "collapsed": false
   },
   "outputs": [
    {
     "data": {
      "image/png": "[encoded data removed]",
      "text/plain": [
       "<matplotlib.figure.Figure at 0x7f0cf851e550>"
      ]
     },
     "metadata": {},
     "output_type": "display_data"
    }
   ],
   "source": [
    "p = [0,0,5,5]\n",
    "t,sol_id=rk4(e_mov,p,[0,1])\n",
    "t,sol_fv=rk4(e_mov,p,[0,1],fric_v)\n",
    "t,sol_fv2=rk4(e_mov,p,[0,1],fric_v2)\n",
    "plot(sol_id[:,0],sol_id[:,1])\n",
    "plot(sol_fv[:,0],sol_fv[:,1])\n",
    "plot(sol_fv2[:,0],sol_fv2[:,1])\n",
    "show()"
   ]
  },
  {
   "cell_type": "code",
   "execution_count": 15,
   "metadata": {
    "collapsed": false
   },
   "outputs": [
    {
     "data": {
      "image/png": "[encoded data removed]",
      "text/plain": [
       "<matplotlib.figure.Figure at 0x7f0cf5702210>"
      ]
     },
     "metadata": {},
     "output_type": "display_data"
    }
   ],
   "source": [
    "inicio = [0,0,5,5]\n",
    "N=500\n",
    "trayectoria = zeros((N,len(inicio)))\n",
    "mi_dt = .1 \n",
    "trayectoria[0,:]=array(inicio)                    \n",
    "for i in range(N):\n",
    "    t,sol_dt = rk4(e_mov,trayectoria[i,:],[0,mi_dt],fric_v)\n",
    "    if sol_dt[-1,:][1] < 0: \n",
    "        print \"buscando punto de rebote\"\n",
    "        dt_busqueda = mi_dt/2\n",
    "        y_izq = trayectoria[i,:][1] \n",
    "        t,sol = rk4(e_mov,trayectoria[i,:].[0,mi_dt/2],fric_v)\n",
    "        y_med = sol[-1,:][1]\n",
    "        while abs(y_izq[1]) > 1e-5\n",
    "             if y_izq[1] * y_med[1] < 0:  #si hay un cambio de signo entonces\n",
    "                  reinicio = y_med  #nuestro punto de inicio es el punto de la izquierda\n",
    "            else:\n",
    "                reinicio = y_med #si no hay cambio de signo entonces iniciamos con el punto medio\n",
    "            dt_busqueda = dt_busqueda/2\n",
    "            t,sol = rk4(e_mov,trayectoria[i,:],[0,dt_busqueda],fric_v)\n",
    "            y_izq = reinicio\n",
    "            y_med = sol[-1,:]\n",
    "            \n",
    "            \n",
    "        break\n",
    "    trayectoria[i+1,:] = sol_dt[-1,:]\n",
    "    \n",
    "plot (sol_fv[:,0],sol_fv[:,1],'o')\n",
    "plot(trayectoria[:,0],trayectoria[:,1],'o')\n",
    "show()"
   ]
  },
  {
   "cell_type": "code",
   "execution_count": null,
   "metadata": {
    "collapsed": true
   },
   "outputs": [],
   "source": []
  }
 ],
 "metadata": {
  "kernelspec": {
   "display_name": "Python [Root]",
   "language": "python",
   "name": "Python [Root]"
  },
  "language_info": {
   "codemirror_mode": {
    "name": "ipython",
    "version": 2
   },
   "file_extension": ".py",
   "mimetype": "text/x-python",
   "name": "python",
   "nbconvert_exporter": "python",
   "pygments_lexer": "ipython2",
   "version": "2.7.12"
  }
 },
 "nbformat": 4,
 "nbformat_minor": 0
}
